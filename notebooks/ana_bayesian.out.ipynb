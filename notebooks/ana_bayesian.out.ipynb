{
 "cells": [
  {
   "cell_type": "markdown",
   "metadata": {},
   "source": [
    "# Model evaluation\n",
    "\n",
    "Kendra Wyant  \n",
    "October 1, 2025\n",
    "\n",
    "### Set Up Environment"
   ],
   "id": "61a42005-5095-4e6e-9de1-6dbc606f6df1"
  },
  {
   "cell_type": "code",
   "execution_count": null,
   "metadata": {},
   "outputs": [
    {
     "output_type": "stream",
     "name": "stderr",
     "text": [
      "Warning: package 'ggplot2' was built under R version 4.3.3"
     ]
    },
    {
     "output_type": "stream",
     "name": "stderr",
     "text": [
      "Warning: package 'tidyr' was built under R version 4.3.3"
     ]
    },
    {
     "output_type": "stream",
     "name": "stderr",
     "text": [
      "Warning: package 'dplyr' was built under R version 4.3.3"
     ]
    },
    {
     "output_type": "stream",
     "name": "stderr",
     "text": [
      "Warning: package 'tidyposterior' was built under R version 4.3.3"
     ]
    }
   ],
   "source": [
    "suppressPackageStartupMessages(library(tidyverse))\n"
   ],
   "id": "c55c345e-591f-4693-bd3d-cb5c9728f3ab"
  },
  {
   "cell_type": "code",
   "execution_count": null,
   "metadata": {},
   "outputs": [
    {
     "output_type": "stream",
     "name": "stdout",
     "text": [
      "Rows: 30\n",
      "Columns: 6\n",
      "$ `full model`             <dbl> 0.7275479, 0.7506222, 0.7513884, 0.6362167, 0…\n",
      "$ `baseline model`         <dbl> 0.7522946, 0.7764934, 0.7510941, 0.6374951, 0…\n",
      "$ `metadata model`         <dbl> 0.6329102, 0.5228854, 0.6602388, 0.6770259, 0…\n",
      "$ `passive metadata model` <dbl> 0.4971991, 0.5433545, 0.5767612, 0.6286495, 0…\n",
      "$ fold_num                 <int> 1, 2, 3, 4, 5, 1, 2, 3, 4, 5, 1, 2, 3, 4, 5, …\n",
      "$ repeat_num               <dbl> 1, 1, 1, 1, 1, 2, 2, 2, 2, 2, 3, 3, 3, 3, 3, …"
     ]
    }
   ],
   "source": [
    "test_metrics_full <- read_csv(here::here(path_models, \n",
    "                                         \"best_config_v17_kfold_full.csv\"), \n",
    "                              show_col_types = FALSE) |> \n",
    "  select(split_num, \"full model\" = roc_auc) |> \n",
    "  arrange(split_num)\n",
    "\n",
    "test_metrics_baseline <- read_csv(here::here(path_models, \n",
    "                                  \"best_config_v17_kfold_baseline.csv\"),\n",
    "                                  show_col_types = FALSE) |> \n",
    "  select(split_num, \"baseline model\" = roc_auc) |> \n",
    "  arrange(split_num)\n",
    "\n",
    "test_metrics_meta <- read_csv(here::here(path_models, \n",
    "                                       \"best_config_v17_kfold_meta.csv\"),\n",
    "                            show_col_types = FALSE) |> \n",
    "  select(split_num, \"metadata model\" = roc_auc) |> \n",
    "  arrange(split_num)\n",
    "\n",
    "test_metrics_passive <- read_csv(here::here(path_models,\n",
    "                                    \"best_config_v17_kfold_passive.csv\"),\n",
    "                            show_col_types = FALSE) |>\n",
    "  select(split_num, \"passive metadata model\" = roc_auc) |>\n",
    "  arrange(split_num)\n",
    "\n",
    "\n",
    "\n",
    "test_metrics_all <- test_metrics_full |> \n",
    "  left_join(test_metrics_baseline, by = c(\"split_num\")) |> \n",
    "  left_join(test_metrics_meta, by = c(\"split_num\")) |>\n",
    "  left_join(test_metrics_passive, by = c(\"split_num\")) |>\n",
    "  mutate(fold_num = rep(1:5, 6),\n",
    "         repeat_num = c(rep(1, 5), rep(2, 5), rep(3, 5), \n",
    "                        rep(4, 5), rep(5, 5), rep(6, 5))) |> \n",
    "  select(-split_num) |> \n",
    "  glimpse()\n"
   ],
   "id": "07a87948-b918-465e-8f42-7cb11274489d"
  },
  {
   "cell_type": "markdown",
   "metadata": {},
   "source": [
    "#### Model evaluation"
   ],
   "id": "b72e0148-b7d0-405e-a13a-3e33edc8eff6"
  },
  {
   "cell_type": "code",
   "execution_count": null,
   "metadata": {},
   "outputs": [
    {
     "output_type": "stream",
     "name": "stdout",
     "text": [
      "\n",
      "SAMPLING FOR MODEL 'continuous' NOW (CHAIN 1).\n",
      "Chain 1: \n",
      "Chain 1: Gradient evaluation took 0.000117 seconds\n",
      "Chain 1: 1000 transitions using 10 leapfrog steps per transition would take 1.17 seconds.\n",
      "Chain 1: Adjust your expectations accordingly!\n",
      "Chain 1: \n",
      "Chain 1: \n",
      "Chain 1: Iteration:    1 / 4000 [  0%]  (Warmup)\n",
      "Chain 1: Iteration:  400 / 4000 [ 10%]  (Warmup)\n",
      "Chain 1: Iteration:  800 / 4000 [ 20%]  (Warmup)\n",
      "Chain 1: Iteration: 1200 / 4000 [ 30%]  (Warmup)\n",
      "Chain 1: Iteration: 1600 / 4000 [ 40%]  (Warmup)\n",
      "Chain 1: Iteration: 2000 / 4000 [ 50%]  (Warmup)\n",
      "Chain 1: Iteration: 2001 / 4000 [ 50%]  (Sampling)\n",
      "Chain 1: Iteration: 2400 / 4000 [ 60%]  (Sampling)\n",
      "Chain 1: Iteration: 2800 / 4000 [ 70%]  (Sampling)\n",
      "Chain 1: Iteration: 3200 / 4000 [ 80%]  (Sampling)\n",
      "Chain 1: Iteration: 3600 / 4000 [ 90%]  (Sampling)\n",
      "Chain 1: Iteration: 4000 / 4000 [100%]  (Sampling)\n",
      "Chain 1: \n",
      "Chain 1:  Elapsed Time: 1.165 seconds (Warm-up)\n",
      "Chain 1:                1.156 seconds (Sampling)\n",
      "Chain 1:                2.321 seconds (Total)\n",
      "Chain 1: \n",
      "\n",
      "SAMPLING FOR MODEL 'continuous' NOW (CHAIN 2).\n",
      "Chain 2: \n",
      "Chain 2: Gradient evaluation took 2.5e-05 seconds\n",
      "Chain 2: 1000 transitions using 10 leapfrog steps per transition would take 0.25 seconds.\n",
      "Chain 2: Adjust your expectations accordingly!\n",
      "Chain 2: \n",
      "Chain 2: \n",
      "Chain 2: Iteration:    1 / 4000 [  0%]  (Warmup)\n",
      "Chain 2: Iteration:  400 / 4000 [ 10%]  (Warmup)\n",
      "Chain 2: Iteration:  800 / 4000 [ 20%]  (Warmup)\n",
      "Chain 2: Iteration: 1200 / 4000 [ 30%]  (Warmup)\n",
      "Chain 2: Iteration: 1600 / 4000 [ 40%]  (Warmup)\n",
      "Chain 2: Iteration: 2000 / 4000 [ 50%]  (Warmup)\n",
      "Chain 2: Iteration: 2001 / 4000 [ 50%]  (Sampling)\n",
      "Chain 2: Iteration: 2400 / 4000 [ 60%]  (Sampling)\n",
      "Chain 2: Iteration: 2800 / 4000 [ 70%]  (Sampling)\n",
      "Chain 2: Iteration: 3200 / 4000 [ 80%]  (Sampling)\n",
      "Chain 2: Iteration: 3600 / 4000 [ 90%]  (Sampling)\n",
      "Chain 2: Iteration: 4000 / 4000 [100%]  (Sampling)\n",
      "Chain 2: \n",
      "Chain 2:  Elapsed Time: 0.935 seconds (Warm-up)\n",
      "Chain 2:                1.191 seconds (Sampling)\n",
      "Chain 2:                2.126 seconds (Total)\n",
      "Chain 2: \n",
      "\n",
      "SAMPLING FOR MODEL 'continuous' NOW (CHAIN 3).\n",
      "Chain 3: \n",
      "Chain 3: Gradient evaluation took 2.4e-05 seconds\n",
      "Chain 3: 1000 transitions using 10 leapfrog steps per transition would take 0.24 seconds.\n",
      "Chain 3: Adjust your expectations accordingly!\n",
      "Chain 3: \n",
      "Chain 3: \n",
      "Chain 3: Iteration:    1 / 4000 [  0%]  (Warmup)\n",
      "Chain 3: Iteration:  400 / 4000 [ 10%]  (Warmup)\n",
      "Chain 3: Iteration:  800 / 4000 [ 20%]  (Warmup)\n",
      "Chain 3: Iteration: 1200 / 4000 [ 30%]  (Warmup)\n",
      "Chain 3: Iteration: 1600 / 4000 [ 40%]  (Warmup)\n",
      "Chain 3: Iteration: 2000 / 4000 [ 50%]  (Warmup)\n",
      "Chain 3: Iteration: 2001 / 4000 [ 50%]  (Sampling)\n",
      "Chain 3: Iteration: 2400 / 4000 [ 60%]  (Sampling)\n",
      "Chain 3: Iteration: 2800 / 4000 [ 70%]  (Sampling)\n",
      "Chain 3: Iteration: 3200 / 4000 [ 80%]  (Sampling)\n",
      "Chain 3: Iteration: 3600 / 4000 [ 90%]  (Sampling)\n",
      "Chain 3: Iteration: 4000 / 4000 [100%]  (Sampling)\n",
      "Chain 3: \n",
      "Chain 3:  Elapsed Time: 0.924 seconds (Warm-up)\n",
      "Chain 3:                0.64 seconds (Sampling)\n",
      "Chain 3:                1.564 seconds (Total)\n",
      "Chain 3: \n",
      "\n",
      "SAMPLING FOR MODEL 'continuous' NOW (CHAIN 4).\n",
      "Chain 4: \n",
      "Chain 4: Gradient evaluation took 2.5e-05 seconds\n",
      "Chain 4: 1000 transitions using 10 leapfrog steps per transition would take 0.25 seconds.\n",
      "Chain 4: Adjust your expectations accordingly!\n",
      "Chain 4: \n",
      "Chain 4: \n",
      "Chain 4: Iteration:    1 / 4000 [  0%]  (Warmup)\n",
      "Chain 4: Iteration:  400 / 4000 [ 10%]  (Warmup)\n",
      "Chain 4: Iteration:  800 / 4000 [ 20%]  (Warmup)\n",
      "Chain 4: Iteration: 1200 / 4000 [ 30%]  (Warmup)\n",
      "Chain 4: Iteration: 1600 / 4000 [ 40%]  (Warmup)\n",
      "Chain 4: Iteration: 2000 / 4000 [ 50%]  (Warmup)\n",
      "Chain 4: Iteration: 2001 / 4000 [ 50%]  (Sampling)\n",
      "Chain 4: Iteration: 2400 / 4000 [ 60%]  (Sampling)\n",
      "Chain 4: Iteration: 2800 / 4000 [ 70%]  (Sampling)\n",
      "Chain 4: Iteration: 3200 / 4000 [ 80%]  (Sampling)\n",
      "Chain 4: Iteration: 3600 / 4000 [ 90%]  (Sampling)\n",
      "Chain 4: Iteration: 4000 / 4000 [100%]  (Sampling)\n",
      "Chain 4: \n",
      "Chain 4:  Elapsed Time: 1.284 seconds (Warm-up)\n",
      "Chain 4:                0.686 seconds (Sampling)\n",
      "Chain 4:                1.97 seconds (Total)\n",
      "Chain 4: "
     ]
    }
   ],
   "source": [
    "\n",
    "# Repeated CV (id = repeat, id2 = fold within repeat)\n",
    "# with a common variance:  statistic ~ model + (model | id2/id)\n",
    "set.seed(101)\n",
    "pp <- test_metrics_all |> \n",
    "  rename(id = fold_num,\n",
    "         id2 = repeat_num) |> \n",
    "  perf_mod(formula = statistic ~ model + (1 | id2/id),\n",
    "         transform = tidyposterior::logit_trans,  # for skewed & bounded AUC\n",
    "         iter = 4000, chains = 4, adapt_delta = .99, # increased iteration from 2000 to fix divergence issues\n",
    "         family = gaussian, \n",
    ")  \n"
   ],
   "id": "e7e5a7a0-a065-4784-97ce-d13498b5d683"
  },
  {
   "cell_type": "code",
   "execution_count": null,
   "metadata": {},
   "outputs": [
    {
     "output_type": "stream",
     "name": "stdout",
     "text": [
      "# A tibble: 4 × 4\n",
      "  model                  pp_median pp_lower pp_upper\n",
      "  <fct>                      <dbl>    <dbl>    <dbl>\n",
      "1 full model                 0.685    0.659    0.710\n",
      "2 baseline model             0.687    0.661    0.711\n",
      "3 metadata model             0.625    0.597    0.651\n",
      "4 passive metadata model     0.573    0.544    0.601"
     ]
    }
   ],
   "source": [
    "pp_tidy <- pp |> \n",
    "  tidy(seed = 123) \n",
    "\n",
    "q = c(.025, .5, .975)\n",
    "pp_perf_tibble <- pp_tidy |> \n",
    "  group_by(model) |> \n",
    "  summarize(pp_median = quantile(posterior, probs = q[2]),\n",
    "            pp_lower = quantile(posterior, probs = q[1]), \n",
    "            pp_upper = quantile(posterior, probs = q[3])) |> \n",
    "  mutate(model = factor(model, levels = c(\"full model\", \"baseline model\", \"metadata model\", \"passive metadata model\"))) |> \n",
    "  arrange(model)\n",
    "\n",
    "pp_perf_tibble |> \n",
    "  write_csv(here::here(path_models, \"pp_perf_tibble.csv\"))\n",
    "\n",
    "pp_tidy |> \n",
    "  write_csv(here::here(path_models, \"posteriors.csv\"))\n",
    "\n",
    "pp_perf_tibble\n"
   ],
   "id": "79ab7eb2-e683-4483-afe5-eed5d6eeaf44"
  },
  {
   "cell_type": "raw",
   "metadata": {
    "raw_mimetype": "text/html"
   },
   "source": [
    "<!-- ### Model Comparisons -->"
   ],
   "id": "fd57db60-9740-475c-a5aa-b4f645ad59f1"
  },
  {
   "cell_type": "raw",
   "metadata": {
    "raw_mimetype": "text/html"
   },
   "source": [
    "<!-- #### Baseline Contrasts -->"
   ],
   "id": "c0903f29-fa31-4ea0-a416-97ab11d0faf8"
  },
  {
   "cell_type": "raw",
   "metadata": {
    "raw_mimetype": "text/html"
   },
   "source": [
    "<!-- ```{r} -->"
   ],
   "id": "eb229f83-7830-4542-9586-d811b53ef779"
  },
  {
   "cell_type": "raw",
   "metadata": {
    "raw_mimetype": "text/html"
   },
   "source": [
    "<!-- ci_baseline <- pp |> -->"
   ],
   "id": "edd5a93e-90c8-46ce-b0ef-8659af1a2255"
  },
  {
   "cell_type": "raw",
   "metadata": {
    "raw_mimetype": "text/html"
   },
   "source": [
    "<!--   contrast_models(list(\"lag24\", \"lag72\", \"lag168\", \"lag336\"),  -->"
   ],
   "id": "983f4857-c7e2-4e34-a4c2-cbb22dd0c694"
  },
  {
   "cell_type": "raw",
   "metadata": {
    "raw_mimetype": "text/html"
   },
   "source": [
    "<!--                   list(\"lag0\", \"lag0\", \"lag0\", \"lag0\")) |>  -->"
   ],
   "id": "70c1e598-64e3-4bcc-b00d-2ff1822061c5"
  },
  {
   "cell_type": "raw",
   "metadata": {
    "raw_mimetype": "text/html"
   },
   "source": [
    "<!--   summary(size = 0) |>  -->"
   ],
   "id": "bc09fd99-6867-4f52-92da-c2c20affe036"
  },
  {
   "cell_type": "raw",
   "metadata": {
    "raw_mimetype": "text/html"
   },
   "source": [
    "<!--   mutate(contrast = factor(contrast,  -->"
   ],
   "id": "a4872964-cf85-473f-acbf-fd3de8091694"
  },
  {
   "cell_type": "raw",
   "metadata": {
    "raw_mimetype": "text/html"
   },
   "source": [
    "<!--                            levels = c(\"lag24 vs lag0\", \"lag72 vs lag0\", \"lag168 vs lag0\",  -->"
   ],
   "id": "4d804a11-c527-49ec-953b-6121d32f0f2a"
  },
  {
   "cell_type": "raw",
   "metadata": {
    "raw_mimetype": "text/html"
   },
   "source": [
    "<!--                                       \"lag336 vs lag0\"), -->"
   ],
   "id": "d950e0ac-c1a4-42e0-805e-c948cc736433"
  },
  {
   "cell_type": "raw",
   "metadata": {
    "raw_mimetype": "text/html"
   },
   "source": [
    "<!--                            labels = c(\"24 vs. 0\", \"72 vs. 0\",  -->"
   ],
   "id": "8c8747c0-7688-4fe7-a06c-a92ea8dc12fd"
  },
  {
   "cell_type": "raw",
   "metadata": {
    "raw_mimetype": "text/html"
   },
   "source": [
    "<!--                                       \"168 vs. 0\", \"336 vs. 0\")), -->"
   ],
   "id": "90c68d3e-6b0c-4de0-9aaf-745fb34b22ab"
  },
  {
   "cell_type": "raw",
   "metadata": {
    "raw_mimetype": "text/html"
   },
   "source": [
    "<!--          probability = 1 - probability) -->"
   ],
   "id": "5b6f3eef-e316-4ccd-950b-09dab74d16ce"
  },
  {
   "cell_type": "raw",
   "metadata": {
    "raw_mimetype": "text/html"
   },
   "source": [
    "<!-- ci_median_baseline <- pp |>  -->"
   ],
   "id": "dafe9a16-e34c-40c8-b0b3-6b12f6749c09"
  },
  {
   "cell_type": "raw",
   "metadata": {
    "raw_mimetype": "text/html"
   },
   "source": [
    "<!--   contrast_models(list(\"lag24\", \"lag72\", \"lag168\", \"lag336\"),  -->"
   ],
   "id": "93600bff-fb4d-4034-9f9d-abfe7d539c31"
  },
  {
   "cell_type": "raw",
   "metadata": {
    "raw_mimetype": "text/html"
   },
   "source": [
    "<!--                   list(\"lag0\", \"lag0\", \"lag0\", \"lag0\")) |>   -->"
   ],
   "id": "3bb397a5-33e1-4ce7-80c8-25633ab1bcd7"
  },
  {
   "cell_type": "raw",
   "metadata": {
    "raw_mimetype": "text/html"
   },
   "source": [
    "<!--   group_by(contrast) |>  -->"
   ],
   "id": "48fe137d-ebc4-4441-9564-d3bbc3fc8915"
  },
  {
   "cell_type": "raw",
   "metadata": {
    "raw_mimetype": "text/html"
   },
   "source": [
    "<!--   summarize(median = quantile(difference, .5)) |>  -->"
   ],
   "id": "fbf0305d-d610-4e4f-82f6-c8f0f715a971"
  },
  {
   "cell_type": "raw",
   "metadata": {
    "raw_mimetype": "text/html"
   },
   "source": [
    "<!--   mutate(contrast = factor(contrast,  -->"
   ],
   "id": "24065f85-2541-4e0c-8350-720f4262d242"
  },
  {
   "cell_type": "raw",
   "metadata": {
    "raw_mimetype": "text/html"
   },
   "source": [
    "<!--                            levels = c(\"lag24 vs. lag0\", \"lag72 vs. lag0\", \"lag168 vs. lag0\",  -->"
   ],
   "id": "89e7929d-e6e1-43c5-ac35-7c2f468cfec0"
  },
  {
   "cell_type": "raw",
   "metadata": {
    "raw_mimetype": "text/html"
   },
   "source": [
    "<!--                                       \"lag336 vs. lag0\"), -->"
   ],
   "id": "c5818220-cf03-4a18-9d70-b6ffa109612b"
  },
  {
   "cell_type": "raw",
   "metadata": {
    "raw_mimetype": "text/html"
   },
   "source": [
    "<!--                            labels = c(\"24 vs. 0\", \"72 vs. 0\",  -->"
   ],
   "id": "f890297d-217d-4fa5-9e22-07e96bbbdbf0"
  },
  {
   "cell_type": "raw",
   "metadata": {
    "raw_mimetype": "text/html"
   },
   "source": [
    "<!--                                       \"168 vs. 0\", \"336 vs. 0\"))) -->"
   ],
   "id": "f5ac7020-7a38-43c1-af07-4976cdcae759"
  },
  {
   "cell_type": "raw",
   "metadata": {
    "raw_mimetype": "text/html"
   },
   "source": [
    "<!-- ci_baseline <- ci_baseline |>  -->"
   ],
   "id": "07fb4324-26f3-446a-9fa0-eb185fc3d586"
  },
  {
   "cell_type": "raw",
   "metadata": {
    "raw_mimetype": "text/html"
   },
   "source": [
    "<!--   left_join(ci_median_baseline, by = c(\"contrast\"))  -->"
   ],
   "id": "65cf7a14-0121-4979-9aa7-59671612e3bb"
  },
  {
   "cell_type": "raw",
   "metadata": {
    "raw_mimetype": "text/html"
   },
   "source": [
    "<!-- ci_baseline |>  -->"
   ],
   "id": "915f16fd-db44-4299-9281-e3679fd454c9"
  },
  {
   "cell_type": "raw",
   "metadata": {
    "raw_mimetype": "text/html"
   },
   "source": [
    "<!--   write_csv(here::here(path_models, \"contrast_baseline.csv\")) -->"
   ],
   "id": "55089491-2d1c-4af3-a9b9-45129073b636"
  },
  {
   "cell_type": "raw",
   "metadata": {
    "raw_mimetype": "text/html"
   },
   "source": [
    "<!-- ci_baseline -->"
   ],
   "id": "4d02f32c-64ae-4d9c-a63b-b3c50fbe221f"
  },
  {
   "cell_type": "raw",
   "metadata": {
    "raw_mimetype": "text/html"
   },
   "source": [
    "<!-- ``` -->"
   ],
   "id": "181450c0-3ac6-4db0-918d-3b0606a41759"
  },
  {
   "cell_type": "raw",
   "metadata": {
    "raw_mimetype": "text/html"
   },
   "source": [
    "<!-- #### Adjacent Contrasts -->"
   ],
   "id": "b2476f88-617f-45fa-a3c4-7d6092018ca2"
  },
  {
   "cell_type": "raw",
   "metadata": {
    "raw_mimetype": "text/html"
   },
   "source": [
    "<!-- ```{r} -->"
   ],
   "id": "a5d924b6-d76e-4b99-a5f0-e3375d22f8f7"
  },
  {
   "cell_type": "raw",
   "metadata": {
    "raw_mimetype": "text/html"
   },
   "source": [
    "<!-- ci_lag <- pp |> -->"
   ],
   "id": "ef59a3db-86f1-46d3-a3a2-617e3d893c2b"
  },
  {
   "cell_type": "raw",
   "metadata": {
    "raw_mimetype": "text/html"
   },
   "source": [
    "<!--   contrast_models(list(\"lag72\", \"lag168\", \"lag336\"),  -->"
   ],
   "id": "9f2ba2b3-ae40-4374-bd8b-c7c5b24585a5"
  },
  {
   "cell_type": "raw",
   "metadata": {
    "raw_mimetype": "text/html"
   },
   "source": [
    "<!--                   list(\"lag24\", \"lag72\", \"lag168\")) |>  -->"
   ],
   "id": "bbc9e0e9-882e-45b7-8213-71784426ee7f"
  },
  {
   "cell_type": "raw",
   "metadata": {
    "raw_mimetype": "text/html"
   },
   "source": [
    "<!--   summary(size = 0) |>  -->"
   ],
   "id": "17a19163-bb98-4263-9036-c86c2418415d"
  },
  {
   "cell_type": "raw",
   "metadata": {
    "raw_mimetype": "text/html"
   },
   "source": [
    "<!--   mutate(contrast = factor(contrast,  -->"
   ],
   "id": "aeb0556c-6e58-4564-9368-10451e7300a6"
  },
  {
   "cell_type": "raw",
   "metadata": {
    "raw_mimetype": "text/html"
   },
   "source": [
    "<!--                            levels = c(\"lag72 vs lag24\", \"lag168 vs lag72\",  -->"
   ],
   "id": "e56edc80-16de-43c4-89fa-73913684767c"
  },
  {
   "cell_type": "raw",
   "metadata": {
    "raw_mimetype": "text/html"
   },
   "source": [
    "<!--                                       \"lag336 vs lag168\"), -->"
   ],
   "id": "e21ece66-8fac-4497-bfe3-811fb8f2678f"
  },
  {
   "cell_type": "raw",
   "metadata": {
    "raw_mimetype": "text/html"
   },
   "source": [
    "<!--                            labels = c(\"72 vs. 24\", \"168 vs. 72\", \"336 vs. 168\")), -->"
   ],
   "id": "a0752944-0295-43c0-86f7-2167009b65e8"
  },
  {
   "cell_type": "raw",
   "metadata": {
    "raw_mimetype": "text/html"
   },
   "source": [
    "<!--          probability = 1 - probability) -->"
   ],
   "id": "3c82ff3f-ab02-45ce-b8ca-ed0c08ab0f77"
  },
  {
   "cell_type": "raw",
   "metadata": {
    "raw_mimetype": "text/html"
   },
   "source": [
    "<!-- ci_median_lag <- pp |>  -->"
   ],
   "id": "d8107eeb-38c7-4d4d-a99f-2566d0fcdf33"
  },
  {
   "cell_type": "raw",
   "metadata": {
    "raw_mimetype": "text/html"
   },
   "source": [
    "<!--   contrast_models(list(\"lag72\", \"lag168\", \"lag336\"),  -->"
   ],
   "id": "4ac980a4-4fd1-45f9-91ab-16a4e0a9d944"
  },
  {
   "cell_type": "raw",
   "metadata": {
    "raw_mimetype": "text/html"
   },
   "source": [
    "<!--                   list(\"lag24\", \"lag72\", \"lag168\")) |>  -->"
   ],
   "id": "f15874cb-ff57-4e61-92dd-1e2df50ff666"
  },
  {
   "cell_type": "raw",
   "metadata": {
    "raw_mimetype": "text/html"
   },
   "source": [
    "<!--   group_by(contrast) |>  -->"
   ],
   "id": "eac583db-0b4c-45b5-93d1-c068e138dbd9"
  },
  {
   "cell_type": "raw",
   "metadata": {
    "raw_mimetype": "text/html"
   },
   "source": [
    "<!--   summarize(median = quantile(difference, .5)) |>  -->"
   ],
   "id": "c4296716-8b1d-44a1-b833-2d5a81721a17"
  },
  {
   "cell_type": "raw",
   "metadata": {
    "raw_mimetype": "text/html"
   },
   "source": [
    "<!--   mutate(contrast = factor(contrast,  -->"
   ],
   "id": "c1b40cdc-855d-41f1-9ed6-e3c2c57beb06"
  },
  {
   "cell_type": "raw",
   "metadata": {
    "raw_mimetype": "text/html"
   },
   "source": [
    "<!--                            levels = c(\"lag72 vs. lag24\", \"lag168 vs. lag72\",  -->"
   ],
   "id": "1ee37add-95d3-41e1-818b-84ffa1e11413"
  },
  {
   "cell_type": "raw",
   "metadata": {
    "raw_mimetype": "text/html"
   },
   "source": [
    "<!--                                       \"lag336 vs. lag168\"), -->"
   ],
   "id": "fda2659b-01c9-4306-871b-df9800961140"
  },
  {
   "cell_type": "raw",
   "metadata": {
    "raw_mimetype": "text/html"
   },
   "source": [
    "<!--                            labels = c(\"72 vs. 24\", \"168 vs. 72\", \"336 vs. 168\"))) -->"
   ],
   "id": "b02b245a-11c9-4cdd-9d95-1ce9b88e7ee0"
  },
  {
   "cell_type": "raw",
   "metadata": {
    "raw_mimetype": "text/html"
   },
   "source": [
    "<!-- ci_lag <- ci_lag |>  -->"
   ],
   "id": "4cf169a7-cbc0-4f53-9a3f-4b07841837b9"
  },
  {
   "cell_type": "raw",
   "metadata": {
    "raw_mimetype": "text/html"
   },
   "source": [
    "<!--   left_join(ci_median_lag, by = c(\"contrast\")) |>  -->"
   ],
   "id": "8a3e3886-79c6-4629-96ea-59df9d4b493f"
  },
  {
   "cell_type": "raw",
   "metadata": {
    "raw_mimetype": "text/html"
   },
   "source": [
    "<!--   arrange(contrast) -->"
   ],
   "id": "9f6b6e9b-c4b2-4298-9b2d-badc64e21832"
  },
  {
   "cell_type": "raw",
   "metadata": {
    "raw_mimetype": "text/html"
   },
   "source": [
    "<!-- ci_lag |>  -->"
   ],
   "id": "c75fb24f-0332-405e-b597-b02ed739acfc"
  },
  {
   "cell_type": "raw",
   "metadata": {
    "raw_mimetype": "text/html"
   },
   "source": [
    "<!--   write_csv(here::here(path_models, \"contrast_adjacent.csv\")) -->"
   ],
   "id": "f25ded1c-5273-4c98-aa81-3226caec5a87"
  },
  {
   "cell_type": "raw",
   "metadata": {
    "raw_mimetype": "text/html"
   },
   "source": [
    "<!-- ci_lag -->"
   ],
   "id": "f799795a-d465-4080-be70-1e3d75fcb09a"
  },
  {
   "cell_type": "raw",
   "metadata": {
    "raw_mimetype": "text/html"
   },
   "source": [
    "<!-- ``` -->"
   ],
   "id": "4c567451-81c5-40b4-835e-a0f4a0a2dfce"
  }
 ],
 "nbformat": 4,
 "nbformat_minor": 5,
 "metadata": {}
}
