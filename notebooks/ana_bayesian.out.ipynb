{
 "cells": [
  {
   "cell_type": "markdown",
   "metadata": {},
   "source": [
    "# Model evaluation\n",
    "\n",
    "Kendra Wyant  \n",
    "October 1, 2025\n",
    "\n",
    "### Set Up Environment"
   ],
   "id": "3da89421-994b-4868-a1c5-ace24f69ee40"
  },
  {
   "cell_type": "code",
   "execution_count": null,
   "metadata": {},
   "outputs": [
    {
     "output_type": "stream",
     "name": "stderr",
     "text": [
      "Warning: package 'ggplot2' was built under R version 4.3.3"
     ]
    },
    {
     "output_type": "stream",
     "name": "stderr",
     "text": [
      "Warning: package 'tidyr' was built under R version 4.3.3"
     ]
    },
    {
     "output_type": "stream",
     "name": "stderr",
     "text": [
      "Warning: package 'dplyr' was built under R version 4.3.3"
     ]
    },
    {
     "output_type": "stream",
     "name": "stderr",
     "text": [
      "Warning: package 'tidyposterior' was built under R version 4.3.3"
     ]
    }
   ],
   "source": [
    "suppressPackageStartupMessages(library(tidyverse))\n"
   ],
   "id": "3b4317bd-bf82-4f56-ac98-c0abb6266129"
  },
  {
   "cell_type": "code",
   "execution_count": null,
   "metadata": {},
   "outputs": [
    {
     "output_type": "stream",
     "name": "stdout",
     "text": [
      "Rows: 30\n",
      "Columns: 6\n",
      "$ `full model`             <dbl> 0.7275479, 0.7506222, 0.7513884, 0.6362167, 0…\n",
      "$ `baseline model`         <dbl> 0.7522946, 0.7764934, 0.7510941, 0.6374951, 0…\n",
      "$ `metadata model`         <dbl> 0.6329102, 0.5228854, 0.6602388, 0.6770259, 0…\n",
      "$ `passive metadata model` <dbl> 0.4971991, 0.5433545, 0.5767612, 0.6286495, 0…\n",
      "$ fold_num                 <int> 1, 2, 3, 4, 5, 1, 2, 3, 4, 5, 1, 2, 3, 4, 5, …\n",
      "$ repeat_num               <dbl> 1, 1, 1, 1, 1, 2, 2, 2, 2, 2, 3, 3, 3, 3, 3, …"
     ]
    }
   ],
   "source": [
    "test_metrics_full <- read_csv(here::here(path_models, \n",
    "                                         \"best_config_v17_kfold_full.csv\"), \n",
    "                              show_col_types = FALSE) |> \n",
    "  select(split_num, \"full model\" = roc_auc) |> \n",
    "  arrange(split_num)\n",
    "\n",
    "test_metrics_baseline <- read_csv(here::here(path_models, \n",
    "                                  \"best_config_v17_kfold_baseline.csv\"),\n",
    "                                  show_col_types = FALSE) |> \n",
    "  select(split_num, \"baseline model\" = roc_auc) |> \n",
    "  arrange(split_num)\n",
    "\n",
    "test_metrics_meta <- read_csv(here::here(path_models, \n",
    "                                       \"best_config_v17_kfold_meta.csv\"),\n",
    "                            show_col_types = FALSE) |> \n",
    "  select(split_num, \"metadata model\" = roc_auc) |> \n",
    "  arrange(split_num)\n",
    "\n",
    "test_metrics_passive <- read_csv(here::here(path_models,\n",
    "                                    \"best_config_v17_kfold_passive.csv\"),\n",
    "                            show_col_types = FALSE) |>\n",
    "  select(split_num, \"passive metadata model\" = roc_auc) |>\n",
    "  arrange(split_num)\n",
    "\n",
    "\n",
    "\n",
    "test_metrics_all <- test_metrics_full |> \n",
    "  left_join(test_metrics_baseline, by = c(\"split_num\")) |> \n",
    "  left_join(test_metrics_meta, by = c(\"split_num\")) |>\n",
    "  left_join(test_metrics_passive, by = c(\"split_num\")) |>\n",
    "  mutate(fold_num = rep(1:5, 6),\n",
    "         repeat_num = c(rep(1, 5), rep(2, 5), rep(3, 5), \n",
    "                        rep(4, 5), rep(5, 5), rep(6, 5))) |> \n",
    "  select(-split_num) |> \n",
    "  glimpse()\n"
   ],
   "id": "1f4ce211-3664-48f4-b8e1-d8497af3e43f"
  },
  {
   "cell_type": "markdown",
   "metadata": {},
   "source": [
    "#### Model evaluation"
   ],
   "id": "0a2e2b20-fe79-45af-81db-721a4e0a3f0f"
  },
  {
   "cell_type": "code",
   "execution_count": null,
   "metadata": {},
   "outputs": [
    {
     "output_type": "stream",
     "name": "stdout",
     "text": [
      "\n",
      "SAMPLING FOR MODEL 'continuous' NOW (CHAIN 1).\n",
      "Chain 1: \n",
      "Chain 1: Gradient evaluation took 7.2e-05 seconds\n",
      "Chain 1: 1000 transitions using 10 leapfrog steps per transition would take 0.72 seconds.\n",
      "Chain 1: Adjust your expectations accordingly!\n",
      "Chain 1: \n",
      "Chain 1: \n",
      "Chain 1: Iteration:    1 / 4000 [  0%]  (Warmup)\n",
      "Chain 1: Iteration:  400 / 4000 [ 10%]  (Warmup)\n",
      "Chain 1: Iteration:  800 / 4000 [ 20%]  (Warmup)\n",
      "Chain 1: Iteration: 1200 / 4000 [ 30%]  (Warmup)\n",
      "Chain 1: Iteration: 1600 / 4000 [ 40%]  (Warmup)\n",
      "Chain 1: Iteration: 2000 / 4000 [ 50%]  (Warmup)\n",
      "Chain 1: Iteration: 2001 / 4000 [ 50%]  (Sampling)\n",
      "Chain 1: Iteration: 2400 / 4000 [ 60%]  (Sampling)\n",
      "Chain 1: Iteration: 2800 / 4000 [ 70%]  (Sampling)\n",
      "Chain 1: Iteration: 3200 / 4000 [ 80%]  (Sampling)\n",
      "Chain 1: Iteration: 3600 / 4000 [ 90%]  (Sampling)\n",
      "Chain 1: Iteration: 4000 / 4000 [100%]  (Sampling)\n",
      "Chain 1: \n",
      "Chain 1:  Elapsed Time: 1.173 seconds (Warm-up)\n",
      "Chain 1:                1.2 seconds (Sampling)\n",
      "Chain 1:                2.373 seconds (Total)\n",
      "Chain 1: \n",
      "\n",
      "SAMPLING FOR MODEL 'continuous' NOW (CHAIN 2).\n",
      "Chain 2: \n",
      "Chain 2: Gradient evaluation took 2.2e-05 seconds\n",
      "Chain 2: 1000 transitions using 10 leapfrog steps per transition would take 0.22 seconds.\n",
      "Chain 2: Adjust your expectations accordingly!\n",
      "Chain 2: \n",
      "Chain 2: \n",
      "Chain 2: Iteration:    1 / 4000 [  0%]  (Warmup)\n",
      "Chain 2: Iteration:  400 / 4000 [ 10%]  (Warmup)\n",
      "Chain 2: Iteration:  800 / 4000 [ 20%]  (Warmup)\n",
      "Chain 2: Iteration: 1200 / 4000 [ 30%]  (Warmup)\n",
      "Chain 2: Iteration: 1600 / 4000 [ 40%]  (Warmup)\n",
      "Chain 2: Iteration: 2000 / 4000 [ 50%]  (Warmup)\n",
      "Chain 2: Iteration: 2001 / 4000 [ 50%]  (Sampling)\n",
      "Chain 2: Iteration: 2400 / 4000 [ 60%]  (Sampling)\n",
      "Chain 2: Iteration: 2800 / 4000 [ 70%]  (Sampling)\n",
      "Chain 2: Iteration: 3200 / 4000 [ 80%]  (Sampling)\n",
      "Chain 2: Iteration: 3600 / 4000 [ 90%]  (Sampling)\n",
      "Chain 2: Iteration: 4000 / 4000 [100%]  (Sampling)\n",
      "Chain 2: \n",
      "Chain 2:  Elapsed Time: 0.965 seconds (Warm-up)\n",
      "Chain 2:                1.262 seconds (Sampling)\n",
      "Chain 2:                2.227 seconds (Total)\n",
      "Chain 2: \n",
      "\n",
      "SAMPLING FOR MODEL 'continuous' NOW (CHAIN 3).\n",
      "Chain 3: \n",
      "Chain 3: Gradient evaluation took 1.9e-05 seconds\n",
      "Chain 3: 1000 transitions using 10 leapfrog steps per transition would take 0.19 seconds.\n",
      "Chain 3: Adjust your expectations accordingly!\n",
      "Chain 3: \n",
      "Chain 3: \n",
      "Chain 3: Iteration:    1 / 4000 [  0%]  (Warmup)\n",
      "Chain 3: Iteration:  400 / 4000 [ 10%]  (Warmup)\n",
      "Chain 3: Iteration:  800 / 4000 [ 20%]  (Warmup)\n",
      "Chain 3: Iteration: 1200 / 4000 [ 30%]  (Warmup)\n",
      "Chain 3: Iteration: 1600 / 4000 [ 40%]  (Warmup)\n",
      "Chain 3: Iteration: 2000 / 4000 [ 50%]  (Warmup)\n",
      "Chain 3: Iteration: 2001 / 4000 [ 50%]  (Sampling)\n",
      "Chain 3: Iteration: 2400 / 4000 [ 60%]  (Sampling)\n",
      "Chain 3: Iteration: 2800 / 4000 [ 70%]  (Sampling)\n",
      "Chain 3: Iteration: 3200 / 4000 [ 80%]  (Sampling)\n",
      "Chain 3: Iteration: 3600 / 4000 [ 90%]  (Sampling)\n",
      "Chain 3: Iteration: 4000 / 4000 [100%]  (Sampling)\n",
      "Chain 3: \n",
      "Chain 3:  Elapsed Time: 0.961 seconds (Warm-up)\n",
      "Chain 3:                0.664 seconds (Sampling)\n",
      "Chain 3:                1.625 seconds (Total)\n",
      "Chain 3: \n",
      "\n",
      "SAMPLING FOR MODEL 'continuous' NOW (CHAIN 4).\n",
      "Chain 4: \n",
      "Chain 4: Gradient evaluation took 2.2e-05 seconds\n",
      "Chain 4: 1000 transitions using 10 leapfrog steps per transition would take 0.22 seconds.\n",
      "Chain 4: Adjust your expectations accordingly!\n",
      "Chain 4: \n",
      "Chain 4: \n",
      "Chain 4: Iteration:    1 / 4000 [  0%]  (Warmup)\n",
      "Chain 4: Iteration:  400 / 4000 [ 10%]  (Warmup)\n",
      "Chain 4: Iteration:  800 / 4000 [ 20%]  (Warmup)\n",
      "Chain 4: Iteration: 1200 / 4000 [ 30%]  (Warmup)\n",
      "Chain 4: Iteration: 1600 / 4000 [ 40%]  (Warmup)\n",
      "Chain 4: Iteration: 2000 / 4000 [ 50%]  (Warmup)\n",
      "Chain 4: Iteration: 2001 / 4000 [ 50%]  (Sampling)\n",
      "Chain 4: Iteration: 2400 / 4000 [ 60%]  (Sampling)\n",
      "Chain 4: Iteration: 2800 / 4000 [ 70%]  (Sampling)\n",
      "Chain 4: Iteration: 3200 / 4000 [ 80%]  (Sampling)\n",
      "Chain 4: Iteration: 3600 / 4000 [ 90%]  (Sampling)\n",
      "Chain 4: Iteration: 4000 / 4000 [100%]  (Sampling)\n",
      "Chain 4: \n",
      "Chain 4:  Elapsed Time: 1.329 seconds (Warm-up)\n",
      "Chain 4:                0.732 seconds (Sampling)\n",
      "Chain 4:                2.061 seconds (Total)\n",
      "Chain 4: "
     ]
    }
   ],
   "source": [
    "\n",
    "# Repeated CV (id = repeat, id2 = fold within repeat)\n",
    "# with a common variance:  statistic ~ model + (model | id2/id)\n",
    "set.seed(101)\n",
    "pp <- test_metrics_all |> \n",
    "  rename(id = fold_num,\n",
    "         id2 = repeat_num) |> \n",
    "  perf_mod(formula = statistic ~ model + (1 | id2/id),\n",
    "         transform = tidyposterior::logit_trans,  # for skewed & bounded AUC\n",
    "         iter = 4000, chains = 4, adapt_delta = .99, # increased iteration from 2000 to fix divergence issues\n",
    "         family = gaussian, \n",
    ")  \n"
   ],
   "id": "30aaa78e-18f3-4927-bab4-f88cf612e3d6"
  },
  {
   "cell_type": "code",
   "execution_count": null,
   "metadata": {},
   "outputs": [
    {
     "output_type": "stream",
     "name": "stdout",
     "text": [
      "# A tibble: 4 × 4\n",
      "  model                  pp_median pp_lower pp_upper\n",
      "  <fct>                      <dbl>    <dbl>    <dbl>\n",
      "1 full model                 0.685    0.659    0.710\n",
      "2 baseline model             0.687    0.661    0.711\n",
      "3 metadata model             0.625    0.597    0.651\n",
      "4 passive metadata model     0.573    0.544    0.601"
     ]
    }
   ],
   "source": [
    "pp_tidy <- pp |> \n",
    "  tidy(seed = 123) \n",
    "\n",
    "q = c(.025, .5, .975)\n",
    "pp_perf_tibble <- pp_tidy |> \n",
    "  group_by(model) |> \n",
    "  summarize(pp_median = quantile(posterior, probs = q[2]),\n",
    "            pp_lower = quantile(posterior, probs = q[1]), \n",
    "            pp_upper = quantile(posterior, probs = q[3])) |> \n",
    "  mutate(model = factor(model, levels = c(\"full model\", \"baseline model\", \"metadata model\", \"passive metadata model\"))) |> \n",
    "  arrange(model)\n",
    "\n",
    "pp_perf_tibble |> \n",
    "  write_csv(here::here(path_models, \"pp_perf_tibble.csv\"))\n",
    "\n",
    "pp_tidy |> \n",
    "  write_csv(here::here(path_models, \"posteriors.csv\"))\n",
    "\n",
    "pp_perf_tibble\n"
   ],
   "id": "241656d0-92bc-4b65-86f7-68a92340be3f"
  },
  {
   "cell_type": "raw",
   "metadata": {
    "raw_mimetype": "text/html"
   },
   "source": [
    "<!-- ### Model Comparisons -->"
   ],
   "id": "d3c4f914-7301-4c78-9167-47b095b99e3d"
  },
  {
   "cell_type": "raw",
   "metadata": {
    "raw_mimetype": "text/html"
   },
   "source": [
    "<!-- #### Baseline Contrasts -->"
   ],
   "id": "780da541-76af-4e4f-80f2-a5465b747ab7"
  },
  {
   "cell_type": "raw",
   "metadata": {
    "raw_mimetype": "text/html"
   },
   "source": [
    "<!-- ```{r} -->"
   ],
   "id": "63cfe614-bb98-498d-84ff-df2bfb309457"
  },
  {
   "cell_type": "raw",
   "metadata": {
    "raw_mimetype": "text/html"
   },
   "source": [
    "<!-- ci_baseline <- pp |> -->"
   ],
   "id": "8dacfb04-2574-4e8c-bb54-2fb24689ce67"
  },
  {
   "cell_type": "raw",
   "metadata": {
    "raw_mimetype": "text/html"
   },
   "source": [
    "<!--   contrast_models(list(\"lag24\", \"lag72\", \"lag168\", \"lag336\"),  -->"
   ],
   "id": "4d0ded21-7235-40ce-b7b0-758219e12a2f"
  },
  {
   "cell_type": "raw",
   "metadata": {
    "raw_mimetype": "text/html"
   },
   "source": [
    "<!--                   list(\"lag0\", \"lag0\", \"lag0\", \"lag0\")) |>  -->"
   ],
   "id": "6065e7ba-9667-42ad-b7cc-bba080afcb44"
  },
  {
   "cell_type": "raw",
   "metadata": {
    "raw_mimetype": "text/html"
   },
   "source": [
    "<!--   summary(size = 0) |>  -->"
   ],
   "id": "3d6371a4-2bbd-47f5-b57f-df510a89ba11"
  },
  {
   "cell_type": "raw",
   "metadata": {
    "raw_mimetype": "text/html"
   },
   "source": [
    "<!--   mutate(contrast = factor(contrast,  -->"
   ],
   "id": "373e6db3-00e2-4a08-b7dd-a9061e463355"
  },
  {
   "cell_type": "raw",
   "metadata": {
    "raw_mimetype": "text/html"
   },
   "source": [
    "<!--                            levels = c(\"lag24 vs lag0\", \"lag72 vs lag0\", \"lag168 vs lag0\",  -->"
   ],
   "id": "8efeb119-8d86-4033-a128-b4aa26749d93"
  },
  {
   "cell_type": "raw",
   "metadata": {
    "raw_mimetype": "text/html"
   },
   "source": [
    "<!--                                       \"lag336 vs lag0\"), -->"
   ],
   "id": "f1fa96ee-6a05-41cd-bab4-2fffa81fc389"
  },
  {
   "cell_type": "raw",
   "metadata": {
    "raw_mimetype": "text/html"
   },
   "source": [
    "<!--                            labels = c(\"24 vs. 0\", \"72 vs. 0\",  -->"
   ],
   "id": "16b15af8-0a2a-462a-85ed-821453ae9478"
  },
  {
   "cell_type": "raw",
   "metadata": {
    "raw_mimetype": "text/html"
   },
   "source": [
    "<!--                                       \"168 vs. 0\", \"336 vs. 0\")), -->"
   ],
   "id": "5b5b2330-e8d2-47dc-b3f2-c76479ea7f92"
  },
  {
   "cell_type": "raw",
   "metadata": {
    "raw_mimetype": "text/html"
   },
   "source": [
    "<!--          probability = 1 - probability) -->"
   ],
   "id": "9fc148d1-96cc-40a6-a9f2-7700b6fdbfab"
  },
  {
   "cell_type": "raw",
   "metadata": {
    "raw_mimetype": "text/html"
   },
   "source": [
    "<!-- ci_median_baseline <- pp |>  -->"
   ],
   "id": "e8bb96d8-9272-4757-a757-946df521a963"
  },
  {
   "cell_type": "raw",
   "metadata": {
    "raw_mimetype": "text/html"
   },
   "source": [
    "<!--   contrast_models(list(\"lag24\", \"lag72\", \"lag168\", \"lag336\"),  -->"
   ],
   "id": "e6f87885-2ddb-4cc1-9098-56101a272207"
  },
  {
   "cell_type": "raw",
   "metadata": {
    "raw_mimetype": "text/html"
   },
   "source": [
    "<!--                   list(\"lag0\", \"lag0\", \"lag0\", \"lag0\")) |>   -->"
   ],
   "id": "2b304fcd-a321-4da3-bfbd-97b5dd9fc5a8"
  },
  {
   "cell_type": "raw",
   "metadata": {
    "raw_mimetype": "text/html"
   },
   "source": [
    "<!--   group_by(contrast) |>  -->"
   ],
   "id": "42bc6092-ca3f-4ce7-aea2-b2c6e6c62f37"
  },
  {
   "cell_type": "raw",
   "metadata": {
    "raw_mimetype": "text/html"
   },
   "source": [
    "<!--   summarize(median = quantile(difference, .5)) |>  -->"
   ],
   "id": "32767580-5419-4f0d-9938-665cf9598d92"
  },
  {
   "cell_type": "raw",
   "metadata": {
    "raw_mimetype": "text/html"
   },
   "source": [
    "<!--   mutate(contrast = factor(contrast,  -->"
   ],
   "id": "cf422ea8-10ca-4db7-9f49-00fa41d9c6db"
  },
  {
   "cell_type": "raw",
   "metadata": {
    "raw_mimetype": "text/html"
   },
   "source": [
    "<!--                            levels = c(\"lag24 vs. lag0\", \"lag72 vs. lag0\", \"lag168 vs. lag0\",  -->"
   ],
   "id": "bbf07122-3b46-4287-9823-8bb20380633f"
  },
  {
   "cell_type": "raw",
   "metadata": {
    "raw_mimetype": "text/html"
   },
   "source": [
    "<!--                                       \"lag336 vs. lag0\"), -->"
   ],
   "id": "0a34b26a-c99a-40e9-a3ec-be25cd5083dd"
  },
  {
   "cell_type": "raw",
   "metadata": {
    "raw_mimetype": "text/html"
   },
   "source": [
    "<!--                            labels = c(\"24 vs. 0\", \"72 vs. 0\",  -->"
   ],
   "id": "266fc781-9e0f-4324-a956-d7eeeed284e5"
  },
  {
   "cell_type": "raw",
   "metadata": {
    "raw_mimetype": "text/html"
   },
   "source": [
    "<!--                                       \"168 vs. 0\", \"336 vs. 0\"))) -->"
   ],
   "id": "44eb3782-319b-4baf-9cc6-37113953e0c4"
  },
  {
   "cell_type": "raw",
   "metadata": {
    "raw_mimetype": "text/html"
   },
   "source": [
    "<!-- ci_baseline <- ci_baseline |>  -->"
   ],
   "id": "ea7682a7-d93e-4c5b-9117-d3ba218da450"
  },
  {
   "cell_type": "raw",
   "metadata": {
    "raw_mimetype": "text/html"
   },
   "source": [
    "<!--   left_join(ci_median_baseline, by = c(\"contrast\"))  -->"
   ],
   "id": "51f93cd2-15ff-46d0-b36b-64113b6fe86f"
  },
  {
   "cell_type": "raw",
   "metadata": {
    "raw_mimetype": "text/html"
   },
   "source": [
    "<!-- ci_baseline |>  -->"
   ],
   "id": "22564198-230e-4e33-8a58-1ff31f0caf17"
  },
  {
   "cell_type": "raw",
   "metadata": {
    "raw_mimetype": "text/html"
   },
   "source": [
    "<!--   write_csv(here::here(path_models, \"contrast_baseline.csv\")) -->"
   ],
   "id": "d33307ed-7746-4cef-b0bf-dd3d6da32ff7"
  },
  {
   "cell_type": "raw",
   "metadata": {
    "raw_mimetype": "text/html"
   },
   "source": [
    "<!-- ci_baseline -->"
   ],
   "id": "0f546684-d268-4938-9280-3a7d73fcb615"
  },
  {
   "cell_type": "raw",
   "metadata": {
    "raw_mimetype": "text/html"
   },
   "source": [
    "<!-- ``` -->"
   ],
   "id": "15f46a28-2f18-48e7-a2da-3807aeb612d3"
  },
  {
   "cell_type": "raw",
   "metadata": {
    "raw_mimetype": "text/html"
   },
   "source": [
    "<!-- #### Adjacent Contrasts -->"
   ],
   "id": "4d170505-c180-4841-8cc2-0604a7528a5f"
  },
  {
   "cell_type": "raw",
   "metadata": {
    "raw_mimetype": "text/html"
   },
   "source": [
    "<!-- ```{r} -->"
   ],
   "id": "c7e64d37-d0d0-4897-b21e-552cb410a8eb"
  },
  {
   "cell_type": "raw",
   "metadata": {
    "raw_mimetype": "text/html"
   },
   "source": [
    "<!-- ci_lag <- pp |> -->"
   ],
   "id": "c2f0363d-f3f6-4610-ba6f-b52ced873573"
  },
  {
   "cell_type": "raw",
   "metadata": {
    "raw_mimetype": "text/html"
   },
   "source": [
    "<!--   contrast_models(list(\"lag72\", \"lag168\", \"lag336\"),  -->"
   ],
   "id": "ad75c7c5-b2c9-431a-9c48-030b13bb3404"
  },
  {
   "cell_type": "raw",
   "metadata": {
    "raw_mimetype": "text/html"
   },
   "source": [
    "<!--                   list(\"lag24\", \"lag72\", \"lag168\")) |>  -->"
   ],
   "id": "7e04dcef-1bdf-4a1f-b4a7-3b16ce044a8f"
  },
  {
   "cell_type": "raw",
   "metadata": {
    "raw_mimetype": "text/html"
   },
   "source": [
    "<!--   summary(size = 0) |>  -->"
   ],
   "id": "69c786e3-efec-4f33-955f-11f1031b0e81"
  },
  {
   "cell_type": "raw",
   "metadata": {
    "raw_mimetype": "text/html"
   },
   "source": [
    "<!--   mutate(contrast = factor(contrast,  -->"
   ],
   "id": "33d804d6-cc53-4920-9255-b9e87198b240"
  },
  {
   "cell_type": "raw",
   "metadata": {
    "raw_mimetype": "text/html"
   },
   "source": [
    "<!--                            levels = c(\"lag72 vs lag24\", \"lag168 vs lag72\",  -->"
   ],
   "id": "d8daf15a-50ec-49c8-9e2d-b7bc3b197bad"
  },
  {
   "cell_type": "raw",
   "metadata": {
    "raw_mimetype": "text/html"
   },
   "source": [
    "<!--                                       \"lag336 vs lag168\"), -->"
   ],
   "id": "e2a2db6b-9ce4-4bd1-8568-29b0b33bdd12"
  },
  {
   "cell_type": "raw",
   "metadata": {
    "raw_mimetype": "text/html"
   },
   "source": [
    "<!--                            labels = c(\"72 vs. 24\", \"168 vs. 72\", \"336 vs. 168\")), -->"
   ],
   "id": "4b5312d6-b314-4d4d-806a-f1878426b116"
  },
  {
   "cell_type": "raw",
   "metadata": {
    "raw_mimetype": "text/html"
   },
   "source": [
    "<!--          probability = 1 - probability) -->"
   ],
   "id": "84bcb81f-3621-408c-bb2c-2a6ef005a0bf"
  },
  {
   "cell_type": "raw",
   "metadata": {
    "raw_mimetype": "text/html"
   },
   "source": [
    "<!-- ci_median_lag <- pp |>  -->"
   ],
   "id": "bdf91e69-3760-4811-a8f4-f2a357c6892d"
  },
  {
   "cell_type": "raw",
   "metadata": {
    "raw_mimetype": "text/html"
   },
   "source": [
    "<!--   contrast_models(list(\"lag72\", \"lag168\", \"lag336\"),  -->"
   ],
   "id": "6c1e915e-e448-48af-a6f6-76fcbfc89ce8"
  },
  {
   "cell_type": "raw",
   "metadata": {
    "raw_mimetype": "text/html"
   },
   "source": [
    "<!--                   list(\"lag24\", \"lag72\", \"lag168\")) |>  -->"
   ],
   "id": "b0cee28f-5d12-4272-801c-b3f23e9f4128"
  },
  {
   "cell_type": "raw",
   "metadata": {
    "raw_mimetype": "text/html"
   },
   "source": [
    "<!--   group_by(contrast) |>  -->"
   ],
   "id": "903fed24-afb1-43ca-a5be-e5f558a70321"
  },
  {
   "cell_type": "raw",
   "metadata": {
    "raw_mimetype": "text/html"
   },
   "source": [
    "<!--   summarize(median = quantile(difference, .5)) |>  -->"
   ],
   "id": "01503871-a5b7-415a-ba40-052248d7f043"
  },
  {
   "cell_type": "raw",
   "metadata": {
    "raw_mimetype": "text/html"
   },
   "source": [
    "<!--   mutate(contrast = factor(contrast,  -->"
   ],
   "id": "9c762879-a72b-49b5-9170-ae329c6475a6"
  },
  {
   "cell_type": "raw",
   "metadata": {
    "raw_mimetype": "text/html"
   },
   "source": [
    "<!--                            levels = c(\"lag72 vs. lag24\", \"lag168 vs. lag72\",  -->"
   ],
   "id": "b7e380e9-688f-4fd0-9d14-228d6668d2fc"
  },
  {
   "cell_type": "raw",
   "metadata": {
    "raw_mimetype": "text/html"
   },
   "source": [
    "<!--                                       \"lag336 vs. lag168\"), -->"
   ],
   "id": "2fd30ec5-01a0-469b-a8b7-b2f81a92924c"
  },
  {
   "cell_type": "raw",
   "metadata": {
    "raw_mimetype": "text/html"
   },
   "source": [
    "<!--                            labels = c(\"72 vs. 24\", \"168 vs. 72\", \"336 vs. 168\"))) -->"
   ],
   "id": "eab3623c-5c7d-4611-94ce-c63ce1aa20b4"
  },
  {
   "cell_type": "raw",
   "metadata": {
    "raw_mimetype": "text/html"
   },
   "source": [
    "<!-- ci_lag <- ci_lag |>  -->"
   ],
   "id": "fd3de3bf-0abc-41c8-a6f2-5d8f11612775"
  },
  {
   "cell_type": "raw",
   "metadata": {
    "raw_mimetype": "text/html"
   },
   "source": [
    "<!--   left_join(ci_median_lag, by = c(\"contrast\")) |>  -->"
   ],
   "id": "b232418e-041c-4869-be1a-3550ccfce4a8"
  },
  {
   "cell_type": "raw",
   "metadata": {
    "raw_mimetype": "text/html"
   },
   "source": [
    "<!--   arrange(contrast) -->"
   ],
   "id": "3aff3df8-670e-47e2-b562-8868a5c8e2dd"
  },
  {
   "cell_type": "raw",
   "metadata": {
    "raw_mimetype": "text/html"
   },
   "source": [
    "<!-- ci_lag |>  -->"
   ],
   "id": "2000627f-d483-4830-9ea7-0b47e4d418bd"
  },
  {
   "cell_type": "raw",
   "metadata": {
    "raw_mimetype": "text/html"
   },
   "source": [
    "<!--   write_csv(here::here(path_models, \"contrast_adjacent.csv\")) -->"
   ],
   "id": "e7c0f678-0af4-4bf4-981d-0e65d5cdb793"
  },
  {
   "cell_type": "raw",
   "metadata": {
    "raw_mimetype": "text/html"
   },
   "source": [
    "<!-- ci_lag -->"
   ],
   "id": "8954e271-86b9-4481-b6ff-a4992d784908"
  },
  {
   "cell_type": "raw",
   "metadata": {
    "raw_mimetype": "text/html"
   },
   "source": [
    "<!-- ``` -->"
   ],
   "id": "25421b8d-3fb4-4a34-93da-d63560a90641"
  }
 ],
 "nbformat": 4,
 "nbformat_minor": 5,
 "metadata": {}
}
